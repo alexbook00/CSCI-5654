{
 "cells": [
  {
   "cell_type": "code",
   "execution_count": 3,
   "id": "liked-packaging",
   "metadata": {},
   "outputs": [],
   "source": [
    "import math\n",
    "import numpy as np\n",
    "import cvxpy as cp"
   ]
  },
  {
   "cell_type": "code",
   "execution_count": 4,
   "id": "moderate-aaron",
   "metadata": {},
   "outputs": [],
   "source": [
    "A = np.array([[-1, 2, 0, 0, -1],\n",
    "              [0, -1, 2, -1, 0],\n",
    "              [-1, 0, 0, 1, 1],\n",
    "              [1, 0, 0, -1, 0],\n",
    "              [0, -1, -2, -2, 3]])"
   ]
  },
  {
   "cell_type": "code",
   "execution_count": 19,
   "id": "generic-baltimore",
   "metadata": {},
   "outputs": [
    {
     "name": "stdout",
     "output_type": "stream",
     "text": [
      "Row player equilibrium strategy:\n",
      " [[ 1.20782958e-11]\n",
      " [ 6.78982128e-12]\n",
      " [ 5.00000000e-01]\n",
      " [ 5.00000000e-01]\n",
      " [-3.86262005e-12]]\n"
     ]
    }
   ],
   "source": [
    "x = cp.Variable((5,1))\n",
    "t = cp.Variable()\n",
    "objective = cp.Maximize(t)\n",
    "constraints = [-A.T @ x + np.ones((5,1)) * t <= 0, np.ones((5,1)).T @ x == 1, x >= 0]\n",
    "prob = cp.Problem(objective, constraints)\n",
    "result = prob.solve()\n",
    "print(f'Row player equilibrium strategy:\\n {x.value}')"
   ]
  },
  {
   "cell_type": "code",
   "execution_count": 20,
   "id": "convenient-stress",
   "metadata": {},
   "outputs": [
    {
     "name": "stdout",
     "output_type": "stream",
     "text": [
      "Column player equilibrium strategy:\n",
      " [[ 3.86743572e-01]\n",
      " [ 1.04923813e-01]\n",
      " [ 1.21589043e-01]\n",
      " [ 3.86743572e-01]\n",
      " [-5.07245146e-13]]\n"
     ]
    }
   ],
   "source": [
    "y = cp.Variable((5,1))\n",
    "z = cp.Variable()\n",
    "objective = cp.Minimize(z)\n",
    "constraints = [-A @ y + np.ones((5,1)) * z >= 0, np.ones((5,1)).T @ y == 1, y >= 0]\n",
    "prob = cp.Problem(objective, constraints)\n",
    "result = prob.solve()\n",
    "print(f'Column player equilibrium strategy:\\n {y.value}')"
   ]
  },
  {
   "cell_type": "code",
   "execution_count": 22,
   "id": "established-implementation",
   "metadata": {},
   "outputs": [
    {
     "name": "stdout",
     "output_type": "stream",
     "text": [
      "Value of game:\n",
      " [[2.54845546e-13]]\n"
     ]
    }
   ],
   "source": [
    "print(f'Value of game:\\n {x.value.T @ A @ y.value}')"
   ]
  }
 ],
 "metadata": {
  "kernelspec": {
   "display_name": "Python 3",
   "language": "python",
   "name": "python3"
  },
  "language_info": {
   "codemirror_mode": {
    "name": "ipython",
    "version": 3
   },
   "file_extension": ".py",
   "mimetype": "text/x-python",
   "name": "python",
   "nbconvert_exporter": "python",
   "pygments_lexer": "ipython3",
   "version": "3.8.5"
  }
 },
 "nbformat": 4,
 "nbformat_minor": 5
}
