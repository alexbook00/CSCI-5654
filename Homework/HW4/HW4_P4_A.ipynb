{
 "cells": [
  {
   "cell_type": "code",
   "execution_count": 8,
   "id": "familiar-peripheral",
   "metadata": {},
   "outputs": [],
   "source": [
    "import math\n",
    "import numpy as np\n",
    "import cvxpy as cp"
   ]
  },
  {
   "cell_type": "code",
   "execution_count": 9,
   "id": "peaceful-commerce",
   "metadata": {},
   "outputs": [
    {
     "data": {
      "text/plain": [
       "array([-2.00000000e-01,  2.77555756e-17,  4.00000000e-01, -5.00000000e-01,\n",
       "        3.00000000e-01])"
      ]
     },
     "execution_count": 9,
     "metadata": {},
     "output_type": "execute_result"
    }
   ],
   "source": [
    "A = np.array([[-1, 2, 0, 0, -1],\n",
    "              [0, -1, 2, -1, 0],\n",
    "              [-1, 0, 0, 1, 1],\n",
    "              [1, 0, 0, -1, 0],\n",
    "              [0, -1, -2, -2, 3]])\n",
    "\n",
    "x_0 = np.array([.2, .3, .2, .2, .1])\n",
    "\n",
    "# 4th value is the least value, so column player should always play that to minimize\n",
    "# the row player's score\n",
    "x_0.T@A"
   ]
  },
  {
   "cell_type": "code",
   "execution_count": null,
   "id": "cloudy-assist",
   "metadata": {},
   "outputs": [],
   "source": []
  }
 ],
 "metadata": {
  "kernelspec": {
   "display_name": "Python 3",
   "language": "python",
   "name": "python3"
  },
  "language_info": {
   "codemirror_mode": {
    "name": "ipython",
    "version": 3
   },
   "file_extension": ".py",
   "mimetype": "text/x-python",
   "name": "python",
   "nbconvert_exporter": "python",
   "pygments_lexer": "ipython3",
   "version": "3.8.5"
  }
 },
 "nbformat": 4,
 "nbformat_minor": 5
}
